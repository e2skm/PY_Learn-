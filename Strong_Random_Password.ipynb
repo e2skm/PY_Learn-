{
 "cells": [
  {
   "cell_type": "markdown",
   "metadata": {},
   "source": [
    "# Strong Random Password"
   ]
  },
  {
   "cell_type": "markdown",
   "metadata": {},
   "source": [
    "## import necessary liabraries"
   ]
  },
  {
   "cell_type": "code",
   "execution_count": 1,
   "metadata": {},
   "outputs": [],
   "source": [
    "import numpy as np"
   ]
  },
  {
   "cell_type": "code",
   "execution_count": 2,
   "metadata": {},
   "outputs": [],
   "source": [
    "import random"
   ]
  },
  {
   "cell_type": "markdown",
   "metadata": {},
   "source": [
    "## Get Some Detail to use for password generation"
   ]
  },
  {
   "cell_type": "code",
   "execution_count": 3,
   "metadata": {},
   "outputs": [
    {
     "name": "stdout",
     "output_type": "stream",
     "text": [
      "\n"
     ]
    }
   ],
   "source": [
    "fullName = input('Enter your first name')\n",
    "print(fullName)"
   ]
  },
  {
   "cell_type": "code",
   "execution_count": 4,
   "metadata": {},
   "outputs": [
    {
     "name": "stdout",
     "output_type": "stream",
     "text": [
      "Y\n"
     ]
    }
   ],
   "source": [
    "has_second_name = input('Do you have a second name?? Enter Y/Yes or N/No')\n",
    "print(has_second_name)"
   ]
  },
  {
   "cell_type": "code",
   "execution_count": 5,
   "metadata": {},
   "outputs": [
    {
     "name": "stdout",
     "output_type": "stream",
     "text": [
      " Janel\n"
     ]
    }
   ],
   "source": [
    "if has_second_name == 'Y' or has_second_name == 'Yes':\n",
    "    fullName += ' '\n",
    "    fullName += input('Enter your second name')\n",
    "    print(fullName)"
   ]
  },
  {
   "cell_type": "code",
   "execution_count": 6,
   "metadata": {},
   "outputs": [
    {
     "name": "stdout",
     "output_type": "stream",
     "text": [
      " Janel Mathebula\n",
      "16\n"
     ]
    }
   ],
   "source": [
    "fullName += ' '\n",
    "fullName += input('Enter your last name')\n",
    "print(fullName)\n",
    "print(len(fullName))"
   ]
  },
  {
   "cell_type": "code",
   "execution_count": 26,
   "metadata": {},
   "outputs": [
    {
     "name": "stdout",
     "output_type": "stream",
     "text": [
      "63\n"
     ]
    }
   ],
   "source": [
    "random_numbers = np.random.randint(10,100)\n",
    "print(random_numbers)"
   ]
  },
  {
   "cell_type": "code",
   "execution_count": 27,
   "metadata": {},
   "outputs": [
    {
     "name": "stdout",
     "output_type": "stream",
     "text": [
      "['*' '$']\n"
     ]
    }
   ],
   "source": [
    "random_symbols = np.random.choice(('!','@','#','$','%','^','&','*'),2)\n",
    "print(random_symbols)"
   ]
  },
  {
   "cell_type": "markdown",
   "metadata": {},
   "source": [
    "## Remove Spaces "
   ]
  },
  {
   "cell_type": "code",
   "execution_count": 28,
   "metadata": {},
   "outputs": [],
   "source": [
    "fullName_noSpaces = fullName.replace(\" \",\"\")"
   ]
  },
  {
   "cell_type": "code",
   "execution_count": 29,
   "metadata": {},
   "outputs": [
    {
     "name": "stdout",
     "output_type": "stream",
     "text": [
      "14\n"
     ]
    }
   ],
   "source": [
    "fullName_len = len(fullName_noSpaces)\n",
    "print(fullName_len)"
   ]
  },
  {
   "cell_type": "markdown",
   "metadata": {},
   "source": [
    "## Use details to generate password"
   ]
  },
  {
   "cell_type": "markdown",
   "metadata": {},
   "source": [
    "### Get random characters from full name"
   ]
  },
  {
   "cell_type": "code",
   "execution_count": 30,
   "metadata": {},
   "outputs": [
    {
     "name": "stdout",
     "output_type": "stream",
     "text": [
      "7\n"
     ]
    }
   ],
   "source": [
    "randChar = int(fullName_len/2)\n",
    "print(randChar)"
   ]
  },
  {
   "cell_type": "code",
   "execution_count": 31,
   "metadata": {},
   "outputs": [
    {
     "name": "stdout",
     "output_type": "stream",
     "text": [
      "[ 0  1  2  3  4  5  6  7  8  9 10 11 12 13]\n"
     ]
    }
   ],
   "source": [
    "randomIndexes = np.array(range(0,fullName_len))\n",
    "print(randomIndexes)"
   ]
  },
  {
   "cell_type": "code",
   "execution_count": 32,
   "metadata": {},
   "outputs": [
    {
     "name": "stdout",
     "output_type": "stream",
     "text": [
      "[ 9 13  3  8  2  7  5  1 10 12 11  4  0  6]\n"
     ]
    }
   ],
   "source": [
    "shuffled_randomIndexes = np.random.permutation(randomIndexes)\n",
    "print(shuffled_randomIndexes)"
   ]
  },
  {
   "cell_type": "code",
   "execution_count": 33,
   "metadata": {},
   "outputs": [
    {
     "name": "stdout",
     "output_type": "stream",
     "text": [
      "<class 'str'>\n"
     ]
    }
   ],
   "source": [
    "random_letters = \"\"\n",
    "print(type(random_letters))"
   ]
  },
  {
   "cell_type": "code",
   "execution_count": 34,
   "metadata": {},
   "outputs": [
    {
     "name": "stdout",
     "output_type": "stream",
     "text": [
      "eaehntM\n"
     ]
    }
   ],
   "source": [
    "for rand in range(randChar):\n",
    "    p = shuffled_randomIndexes[rand]\n",
    "    random_letters +=  fullName_noSpaces[p]\n",
    "print(random_letters)\n"
   ]
  },
  {
   "cell_type": "markdown",
   "metadata": {},
   "source": [
    "#### Randomly change letter cases"
   ]
  },
  {
   "cell_type": "code",
   "execution_count": 35,
   "metadata": {},
   "outputs": [
    {
     "name": "stdout",
     "output_type": "stream",
     "text": [
      "EAehNTM\n"
     ]
    }
   ],
   "source": [
    "random_password = \"\"\n",
    "for i in range(len(random_letters)):\n",
    "    z = np.random.randint(1,3)\n",
    "    if z == 1:\n",
    "      random_password += random_letters[i].upper()\n",
    "    else:\n",
    "      random_password += random_letters[i].lower()\n",
    "print(random_password)"
   ]
  },
  {
   "cell_type": "code",
   "execution_count": 36,
   "metadata": {},
   "outputs": [
    {
     "name": "stdout",
     "output_type": "stream",
     "text": [
      "EAehNTM63\n"
     ]
    }
   ],
   "source": [
    "random_password += str(random_numbers)\n",
    "print(random_password)"
   ]
  },
  {
   "cell_type": "code",
   "execution_count": 37,
   "metadata": {},
   "outputs": [],
   "source": [
    "random_symbols = str(random_symbols)\n",
    "random_symbols = random_symbols.replace(\"[\",\"\")\n",
    "random_symbols = random_symbols.replace(\"]\",\"\")\n",
    "random_symbols = random_symbols.replace(\"'\",\"\")\n",
    "random_symbols = random_symbols.replace(\" \",\"\")\n"
   ]
  },
  {
   "cell_type": "code",
   "execution_count": 38,
   "metadata": {},
   "outputs": [
    {
     "name": "stdout",
     "output_type": "stream",
     "text": [
      "EAehNTM63*$\n"
     ]
    }
   ],
   "source": [
    "random_password += random_symbols\n",
    "print(random_password)\n",
    "random_password_length = len(random_password)"
   ]
  },
  {
   "cell_type": "markdown",
   "metadata": {},
   "source": [
    "## Run tests to see if generated password is strong"
   ]
  },
  {
   "cell_type": "code",
   "execution_count": 39,
   "metadata": {},
   "outputs": [],
   "source": [
    "has_enoughChars = False"
   ]
  },
  {
   "cell_type": "code",
   "execution_count": 40,
   "metadata": {},
   "outputs": [
    {
     "name": "stdout",
     "output_type": "stream",
     "text": [
      "Password Has eight or more characters 11 ,specifically\n"
     ]
    }
   ],
   "source": [
    "if random_password_length >= 8:\n",
    "   has_enoughChars = True\n",
    "   print('Password Has eight or more characters',random_password_length,',specifically')\n",
    "else:\n",
    "    print('Password has less than eight characters',random_password_length,' ,specifically')"
   ]
  },
  {
   "cell_type": "code",
   "execution_count": 41,
   "metadata": {},
   "outputs": [],
   "source": [
    "has_uppercase = False\n",
    "has_lowercase = False"
   ]
  },
  {
   "cell_type": "code",
   "execution_count": 42,
   "metadata": {},
   "outputs": [
    {
     "name": "stdout",
     "output_type": "stream",
     "text": [
      "Password has uppercase character(s)\n"
     ]
    }
   ],
   "source": [
    "for r in range(randChar): \n",
    "   if random_password[r].isupper():\n",
    "      has_uppercase = True\n",
    "      print('Password has uppercase character(s)')\n",
    "      break"
   ]
  },
  {
   "cell_type": "code",
   "execution_count": 43,
   "metadata": {},
   "outputs": [
    {
     "name": "stdout",
     "output_type": "stream",
     "text": [
      "Password has lowercase character(s)\n"
     ]
    }
   ],
   "source": [
    "for r in range(randChar):\n",
    "   if random_password[r].islower():\n",
    "      has_lowercase = True\n",
    "      print('Password has lowercase character(s)')\n",
    "      break"
   ]
  },
  {
   "cell_type": "code",
   "execution_count": 44,
   "metadata": {},
   "outputs": [
    {
     "name": "stdout",
     "output_type": "stream",
     "text": [
      "EAehNTM63*$ Congratulations the generated password is srtong\n"
     ]
    }
   ],
   "source": [
    "if has_enoughChars == True and has_lowercase == True and has_uppercase == True:\n",
    "    print(random_password,'Congratulations the generated password is srtong')\n",
    "else:\n",
    "    print(random_password,'Opps the generated password is weak')"
   ]
  }
 ],
 "metadata": {
  "kernelspec": {
   "display_name": "Python 3",
   "language": "python",
   "name": "python3"
  },
  "language_info": {
   "codemirror_mode": {
    "name": "ipython",
    "version": 3
   },
   "file_extension": ".py",
   "mimetype": "text/x-python",
   "name": "python",
   "nbconvert_exporter": "python",
   "pygments_lexer": "ipython3",
   "version": "3.12.3"
  }
 },
 "nbformat": 4,
 "nbformat_minor": 2
}
